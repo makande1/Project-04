{
 "cells": [
  {
   "cell_type": "markdown",
   "id": "cddf5de3-a9f3-4471-bbaf-aca41a70ce89",
   "metadata": {},
   "source": [
    "#### INST326 OOP Project 04"
   ]
  },
  {
   "cell_type": "markdown",
   "id": "2bb7f115-9eba-4f29-918e-b016e6a7edc8",
   "metadata": {},
   "source": [
    "Rename this notebook, replacing \"_Assignment\" with \"_YourName\"<br>\n",
    "Insert Signature Block Here"
   ]
  },
  {
   "cell_type": "markdown",
   "id": "d9996725-f4d1-490a-8528-427895fe14b5",
   "metadata": {},
   "source": [
    "### Margeret Akande\n",
    "> INST326 Section 0104  \n",
    "> Group number / name if applicable    \n",
    "> Project no 4    \n",
    "> Date Due 11 December\n",
    "#### Honor Pledge\n",
    "> I pledge that the work contained in this assignment is my own, and that I have complied with University and course policies on academic integrity, and AI use.\n",
    "#### Disclosures and Citations\n",
    "> Example: *ChatGPT, response to the prompt \"explain how to write a function in python. give an example. Include a citation to chat gpt for the response. include the prompt in the citation.\" OpenAI, August 29, 2024.*"
   ]
  },
  {
   "cell_type": "markdown",
   "id": "176a3739-9a16-4655-8cbb-a4cbfdf17226",
   "metadata": {},
   "source": [
    "You may work as an individual on **ONE** of the following projects, **OR** if you want to work as a group, contact Dr. Dempwolf for a project assignment. That group assignment will be part of an ongoing research project analyzing innovation ecosystems. "
   ]
  },
  {
   "cell_type": "markdown",
   "id": "8ee05bdb-db2d-41c2-9f23-3af75d058612",
   "metadata": {},
   "source": [
    "### Individual Projects\n",
    "Choose **ONE** of the following projects and write to code solution in the code cell below your choice. Use comments in your code to document your solution. If you need to write comments to the grader, add a markdown cell immediately above your code solution and add your comments there. Be sure to read and follow the Notebook Instructions at the bottom of this notebook. Your grade may depend on it! "
   ]
  },
  {
   "cell_type": "markdown",
   "id": "a1c98e85-2c64-4a03-8309-d91035cca6d2",
   "metadata": {},
   "source": [
    "#### 1. Library Management System\r",
    ">  Objective: Develop a system to manage a library’s collection of books, users, and loan records. This system should allow users to borrow and return books, as well as track which books are currently available.\n",
    ">\n",
    "> Requirements\n",
    ">>- Use classes to represent books, users, and the library.\n",
    ">>- Implement encapsulation to protect class attributes.\n",
    ">>- Use inheritance to handle different types of users (e.g., students and teachers).\n",
    ">>- Demonstrate polymorphism in borrowing rules (e.g., different borrowing limits for students vs. teachers).\n",
    ">>- Include methods for adding/removing books, registering users, and managing book loans.\n",
    ">>- Include execution code to demonstrate that your solution works"
   ]
  },
  {
   "cell_type": "code",
   "execution_count": 3,
   "id": "8cf9723f-1ab6-4461-90b6-637a177e0f5a",
   "metadata": {},
   "outputs": [
    {
     "name": "stdout",
     "output_type": "stream",
     "text": [
      "Book '1984' added to the library.\n",
      "Book 'To Kill a Mockingbird' added to the library.\n",
      "Book 'The Great Gatsby' added to the library.\n",
      "User 'Alice' registered in the library.\n",
      "User 'Mr. Smith' registered in the library.\n",
      "Available Books in the Library:\n",
      "- 1984 by George Orwell (ID: 1)\n",
      "- To Kill a Mockingbird by Harper Lee (ID: 2)\n",
      "- The Great Gatsby by F. Scott Fitzgerald (ID: 3)\n",
      "Alice borrowed '1984'.\n",
      "Alice borrowed 'To Kill a Mockingbird'.\n",
      "Alice cannot borrow 'The Great Gatsby'. Borrow limit reached or book unavailable.\n",
      "Mr. Smith cannot borrow 'To Kill a Mockingbird'. Borrow limit reached or book unavailable.\n",
      "Mr. Smith borrowed 'The Great Gatsby'.\n",
      "Alice's Borrowed Books:\n",
      "- 1984 by George Orwell\n",
      "- To Kill a Mockingbird by Harper Lee\n",
      "Mr. Smith's Borrowed Books:\n",
      "- The Great Gatsby by F. Scott Fitzgerald\n",
      "Alice returned '1984'.\n",
      "Mr. Smith returned 'The Great Gatsby'.\n",
      "Available Books in the Library:\n",
      "- 1984 by George Orwell (ID: 1)\n",
      "- The Great Gatsby by F. Scott Fitzgerald (ID: 3)\n"
     ]
    }
   ],
   "source": [
    "# Solution - enter your code solution below\n",
    "class Book:\n",
    "    def __init__(self, book_id, title, author):\n",
    "        self.__book_id = book_id\n",
    "        self.__title = title\n",
    "        self.__author = author\n",
    "        self.__is_available = True\n",
    "\n",
    "    def get_id(self):\n",
    "        return self.__book_id\n",
    "\n",
    "    def get_title(self):\n",
    "        return self.__title\n",
    "\n",
    "    def get_author(self):\n",
    "        return self.__author\n",
    "\n",
    "    def is_available(self):\n",
    "        return self.__is_available\n",
    "\n",
    "    # Methods to update availability\n",
    "    def borrow(self):\n",
    "        if self.__is_available:\n",
    "            self.__is_available = False\n",
    "            return True\n",
    "        return False\n",
    "\n",
    "    def return_book(self):\n",
    "        self.__is_available = True\n",
    "\n",
    "class User:\n",
    "    def __init__(self, user_id, name):\n",
    "        self.__user_id = user_id\n",
    "        self.__name = name\n",
    "        self.__borrowed_books = []\n",
    "        self._borrow_limit = 1\n",
    "\n",
    "    def get_id(self):\n",
    "        return self.__user_id\n",
    "\n",
    "    def get_name(self):\n",
    "        return self.__name\n",
    "\n",
    "    # Method to borrow books\n",
    "    def borrow_book(self, book):\n",
    "        if len(self.__borrowed_books) < self._borrow_limit and book.is_available():\n",
    "            if book.borrow():\n",
    "                self.__borrowed_books.append(book)\n",
    "                print(f\"{self.__name} borrowed '{book.get_title()}'.\")\n",
    "        else:\n",
    "            print(f\"{self.__name} cannot borrow '{book.get_title()}'. Borrow limit reached or book unavailable.\")\n",
    "\n",
    "    # Method to return books\n",
    "    def return_book(self, book):\n",
    "        if book in self.__borrowed_books:\n",
    "            book.return_book()\n",
    "            self.__borrowed_books.remove(book)\n",
    "            print(f\"{self.__name} returned '{book.get_title()}'.\")\n",
    "        else:\n",
    "            print(f\"{self.__name} did not borrow '{book.get_title()}'.\")\n",
    "\n",
    "    def show_borrowed_books(self):\n",
    "        print(f\"{self.__name}'s Borrowed Books:\")\n",
    "        for book in self.__borrowed_books:\n",
    "            print(f\"- {book.get_title()} by {book.get_author()}\")\n",
    "\n",
    "class Student(User):\n",
    "    def __init__(self, user_id, name):\n",
    "        super().__init__(user_id, name)\n",
    "        self._borrow_limit = 2\n",
    "\n",
    "class Teacher(User):\n",
    "    def __init__(self, user_id, name):\n",
    "        super().__init__(user_id, name)\n",
    "        self._borrow_limit = 5\n",
    "\n",
    "class Library:\n",
    "    def __init__(self, name):\n",
    "        self.__name = name\n",
    "        self.__books = []\n",
    "        self.__users = []\n",
    "\n",
    "    def add_book(self, book):\n",
    "        self.__books.append(book)\n",
    "        print(f\"Book '{book.get_title()}' added to the library.\")\n",
    "\n",
    "    def remove_book(self, book_id):\n",
    "        for book in self.__books:\n",
    "            if book.get_id() == book_id:\n",
    "                self.__books.remove(book)\n",
    "                print(f\"Book '{book.get_title()}' removed from the library.\")\n",
    "                return\n",
    "        print(\"Book ID not found.\")\n",
    "\n",
    "    def register_user(self, user):\n",
    "        self.__users.append(user)\n",
    "        print(f\"User '{user.get_name()}' registered in the library.\")\n",
    "\n",
    "    # Display available books\n",
    "    def show_available_books(self):\n",
    "        print(\"Available Books in the Library:\")\n",
    "        for book in self.__books:\n",
    "            if book.is_available():\n",
    "                print(f\"- {book.get_title()} by {book.get_author()} (ID: {book.get_id()})\")\n",
    "\n",
    "if __name__ == \"__main__\":\n",
    "    my_library = Library(\"City Library\")\n",
    "\n",
    "    book1 = Book(1, \"1984\", \"George Orwell\")\n",
    "    book2 = Book(2, \"To Kill a Mockingbird\", \"Harper Lee\")\n",
    "    book3 = Book(3, \"The Great Gatsby\", \"F. Scott Fitzgerald\")\n",
    "\n",
    "    # Add Books to Library\n",
    "    my_library.add_book(book1)\n",
    "    my_library.add_book(book2)\n",
    "    my_library.add_book(book3)\n",
    "\n",
    "    student = Student(101, \"Alice\")\n",
    "    teacher = Teacher(201, \"Mr. Smith\")\n",
    "    my_library.register_user(student)\n",
    "    my_library.register_user(teacher)\n",
    "\n",
    "    my_library.show_available_books()\n",
    "\n",
    "    # Borrow Books\n",
    "    student.borrow_book(book1)\n",
    "    student.borrow_book(book2)\n",
    "    student.borrow_book(book3)\n",
    "\n",
    "    teacher.borrow_book(book2)\n",
    "    teacher.borrow_book(book3)\n",
    "\n",
    "    # Show Borrowed Books\n",
    "    student.show_borrowed_books()\n",
    "    teacher.show_borrowed_books()\n",
    "\n",
    "    # Return Books\n",
    "    student.return_book(book1)\n",
    "    teacher.return_book(book3)\n",
    "\n",
    "    # Show Available Books Again\n",
    "    my_library.show_available_books()\n"
   ]
  },
  {
   "cell_type": "markdown",
   "id": "28b28d8a-dbb3-4f15-bbe0-e14504b84876",
   "metadata": {},
   "source": [
    "#### 2. Online Shopping Cart System\n",
    ">  Objective: Build a shopping cart system for an online store that manages products, shopping carts, and orders.\n",
    ">\n",
    "> Requirements\n",
    ">>- Use classes to represent products, shopping carts, and orders.\n",
    ">>- Implement encapsulation to handle product prices and cart contents securely.\n",
    ">>- Use inheritance to create different types of products (e.g., electronics, clothing).\n",
    ">>- Demonstrate polymorphism by calculating discounts based on product type.\n",
    ">>- Include execution code to demonstrate that your solution works"
   ]
  },
  {
   "cell_type": "code",
   "execution_count": null,
   "id": "e655cf9f-d2fc-4541-918f-8d85b1c04e94",
   "metadata": {},
   "outputs": [],
   "source": [
    "# Solution - enter your code solution below\n"
   ]
  },
  {
   "cell_type": "markdown",
   "id": "6708f6cf-aac7-430e-947d-6f9c8dd161f6",
   "metadata": {},
   "source": [
    "#### 3. Restaurant Reservation System\n",
    ">  Objective: Create a reservation system for a restaurant that manages tables, reservations, and customers.\n",
    ">\n",
    ">  Requirements\n",
    ">>- Use classes to represent tables, customers, and reservations.\n",
    ">>- Implement encapsulation for managing table availability and reservation details.\n",
    ">>- Use inheritance to differentiate between walk-in and advance reservations.\n",
    ">>- Demonstrate polymorphism by handling special cases (e.g., priority seating for VIP customers).\n",
    ">>- Include execution code to demonstrate that your solution works"
   ]
  },
  {
   "cell_type": "code",
   "execution_count": null,
   "id": "992556f0-32d7-464d-99db-6cd10b907784",
   "metadata": {},
   "outputs": [],
   "source": [
    "# Solution - enter your code solution below\n"
   ]
  },
  {
   "cell_type": "markdown",
   "id": "5a53bd40-c45e-49da-b4d7-10da7f13dc87",
   "metadata": {},
   "source": [
    "#### 4. Vehicle Rental System\n",
    ">  Objective: Develop a vehicle rental system that manages a fleet of vehicles, customer rentals, and payment processing.\n",
    ">\n",
    ">  Requirements\n",
    ">>- Use classes to represent different types of vehicles, customers, and rental transactions.\n",
    ">>- Implement encapsulation to handle sensitive information like customer payment details.\n",
    ">>- Use inheritance to differentiate between various vehicle types (e.g., cars, trucks, motorcycles).\n",
    ">>- Demonstrate polymorphism by applying different rental pricing strategies based on vehicle type.\n",
    ">>- Include execution code to demonstrate that your solution works"
   ]
  },
  {
   "cell_type": "code",
   "execution_count": null,
   "id": "1a091048-b769-4550-9433-d68de6e0d2f2",
   "metadata": {},
   "outputs": [],
   "source": [
    "# Solution - enter your code solution below\n"
   ]
  },
  {
   "cell_type": "markdown",
   "id": "f0c73f2e-9616-459e-ac0d-c82da9b6ac82",
   "metadata": {},
   "source": [
    "#### 5. Online Learning Platform\n",
    ">  Objective: Create an online learning platform that manages courses, students, and instructors.\n",
    ">  \n",
    ">  Requirements\n",
    ">>- Use classes to represent courses, students, and instructors.\n",
    ">>- Implement encapsulation to manage sensitive information like student grades.\n",
    ">>- Use inheritance to handle different types of courses (e.g., free, paid, and premium).\n",
    ">>- Demonstrate polymorphism in applying different grading schemes for assignments.\n",
    ">>- Include execution code to demonstrate that your solution works"
   ]
  },
  {
   "cell_type": "code",
   "execution_count": null,
   "id": "1904cb6f-07d7-4630-bc13-59387bae91e8",
   "metadata": {},
   "outputs": [],
   "source": [
    "# Solution - enter your code solution below\n"
   ]
  },
  {
   "cell_type": "markdown",
   "id": "aee162f1-c1b7-45ac-814d-3e1d4d843ae9",
   "metadata": {},
   "source": [
    "#### 6. E-Commerce Order Processing System\n",
    ">  Objective: Build an order processing system for an online store that manages products, customers, and orders.\n",
    ">  \n",
    ">  Requirements\n",
    ">>- Use classes to represent products, customers, and orders.\n",
    ">>- Implement encapsulation for handling payment details securely.\n",
    ">>- Use inheritance for different types of products (e.g., physical goods, digital downloads).\n",
    ">>- Demonstrate polymorphism by applying different shipping costs based on product type.\n",
    ">>- Include execution code to demonstrate that your solution works"
   ]
  },
  {
   "cell_type": "code",
   "execution_count": null,
   "id": "df4f6272-0b52-4fa7-b520-a6fdf37b8f65",
   "metadata": {},
   "outputs": [],
   "source": [
    "# Solution - enter your code solution below\n"
   ]
  },
  {
   "cell_type": "markdown",
   "id": "ec8ddd19-87cd-475d-a07f-7dc8983dc636",
   "metadata": {},
   "source": [
    "### Notebook Instructions\n",
    "> Before turning in your notebook:\n",
    "> 1. Make sure you have renamed the notebook file as instructed\n",
    "> 2. Make sure you have included your signature block and that it is correct according to the instructions\n",
    "> 3. comment your code as necessary\n",
    "> 4. run all code cells and double check that they run correctly. Include you execution code in your submission. If you can't get your code to run correctly and you want partial credit, add a note for the grader in a new markdown cell directly above your code solution.<br><br>\n",
    "Turn in your notebook by uploading it to ELMS<br>\n",
    "IF the exercises involve saved data files, put your notebook and the data file(s) in a zip folder and upload the zip folder to ELMS"
   ]
  }
 ],
 "metadata": {
  "kernelspec": {
   "display_name": "Python 3 (ipykernel)",
   "language": "python",
   "name": "python3"
  },
  "language_info": {
   "codemirror_mode": {
    "name": "ipython",
    "version": 3
   },
   "file_extension": ".py",
   "mimetype": "text/x-python",
   "name": "python",
   "nbconvert_exporter": "python",
   "pygments_lexer": "ipython3",
   "version": "3.12.4"
  }
 },
 "nbformat": 4,
 "nbformat_minor": 5
}
